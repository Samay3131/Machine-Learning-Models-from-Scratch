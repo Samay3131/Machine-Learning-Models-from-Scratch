{
 "cells": [
  {
   "cell_type": "code",
   "execution_count": 5,
   "id": "ee58ab39",
   "metadata": {},
   "outputs": [],
   "source": []
  },
  {
   "attachments": {},
   "cell_type": "markdown",
   "id": "b5a43573",
   "metadata": {},
   "source": [
    "The program implements logistic regression along with gradient decent algorithm on\n",
    "synthetic data and the real-world data. We have calculated the error rate of test and training sets in\n",
    "different circumstances like adding the nominal variable’s and concluded the performance of the\n",
    "model. Finally, we have split the data into ten splits and train the model in a loop ten times to\n",
    "evaluate the training testing error and the bias variance trade-off is discussed"
   ]
  },
  {
   "cell_type": "code",
   "execution_count": null,
   "id": "cdefb190",
   "metadata": {},
   "outputs": [],
   "source": [
    "import numpy as np\n",
    "import pandas as pd\n",
    "import matplotlib.pyplot as plt"
   ]
  },
  {
   "attachments": {},
   "cell_type": "markdown",
   "id": "6c59f7e8",
   "metadata": {},
   "source": [
    "# Q1  - Synthetic data"
   ]
  },
  {
   "cell_type": "code",
   "execution_count": 237,
   "id": "d4d18bf1",
   "metadata": {},
   "outputs": [],
   "source": [
    "def model (x, par): \n",
    "    f_ =  par[0] + np.sum(x*(par[1:]))\n",
    "    f = 1/(1 + np.exp(-f_))  \n",
    "       \n",
    "    return f\n",
    "\n",
    "def dModel (x , par ) :\n",
    "    df = np. zeros (len(par))\n",
    "    f_ =   par[0] + np.sum(x*(par[1:]))\n",
    "    df = (1/(1 + np.exp(-f_))) * (1-(1/(1 + np.exp(-f_))))\n",
    "    \n",
    "    return df\n",
    "            \n",
    "\n",
    "def objective (par,data ) :\n",
    "    ell = 0\n",
    "    for x,y in data:\n",
    "        f = model(x,par)\n",
    "     \n",
    "        ell = ell - np.log((y * f) + ((1-y)*(1-f)))\n",
    "    \n",
    "    return ell\n",
    "\n",
    "def gradient( par , data ) :\n",
    "    grad = np.zeros(len(par))\n",
    "    for x,y in data:\n",
    "        f = model(x,par)\n",
    "        df = dModel(x,par)\n",
    "        g = -1*(((2*y)-1) / ((y*f) + (1-y) * (1 - f)) ) * df\n",
    "        grad = grad + g\n",
    "    \n",
    "    return grad\n",
    "\n",
    "def train ( par0 , eta , T , data ) :\n",
    "    par = list(par0)\n",
    "    obj = []\n",
    "    for i in range(1,T):\n",
    "        ell = objective(par,data) \n",
    "        grad = gradient(par,data)\n",
    "        obj.append(ell)\n",
    "        par = par - (eta * grad) \n",
    "    return par , obj\n",
    "\n",
    "def ER (par,data) :\n",
    "    ER = 0\n",
    "    for x,y in data:\n",
    "        f = model(x,par)\n",
    "        if f > 0.5:\n",
    "            y_ = 1\n",
    "        else:\n",
    "            f_ = 0\n",
    "            \n",
    "        ER = (ER + (y - f)**2)/len(x)\n",
    "    return ER\n"
   ]
  },
  {
   "cell_type": "code",
   "execution_count": 148,
   "id": "9a2a20df",
   "metadata": {},
   "outputs": [
    {
     "data": {
      "image/png": "[encoded data removed]",
      "text/plain": [
       "<Figure size 432x288 with 1 Axes>"
      ]
     },
     "metadata": {
      "needs_background": "light"
     },
     "output_type": "display_data"
    }
   ],
   "source": [
    "def generateData (d , N, noise =.01) :\n",
    "    X = [ np.random.randn(d) for n in range (N) ]\n",
    "    lambdaTrue = np.cos(np.random.randn(d +1))\n",
    "    Y = [(( lambdaTrue [0] + lambdaTrue [1:] @ s ) + noise *\n",
    "          np . random . randn () > 0) for s in X ]\n",
    "    D = [[X[n] ,Y[n]] for n in range ( N ) ]\n",
    "    \n",
    "    return D\n",
    "\n",
    "eta = 0.01 # set the learning rate\n",
    "T = 1000 # set the number of epochs\n",
    "N = 100 # number of data points to be generated\n",
    "d = 10 # dimension of each data point\n",
    "data = generateData(d, N) # generate a synthetic training data set\n",
    "# par0 = np.random.randn(d+1) # generate a random initialisation\n",
    "par0 = [(-1)**i for i in range(d+1)]\n",
    "par , obj = train(par0,eta,T,data) # train the model\n",
    "plt.plot(range(1,T),obj) # plot the objective\n",
    "plt.show()\n"
   ]
  },
  {
   "attachments": {},
   "cell_type": "markdown",
   "id": "351f99ef",
   "metadata": {},
   "source": [
    "# Q2  - Real-world data"
   ]
  },
  {
   "cell_type": "code",
   "execution_count": 420,
   "id": "0ba97bda",
   "metadata": {},
   "outputs": [
    {
     "name": "stderr",
     "output_type": "stream",
     "text": [
      "D:\\Users\\user\\anaconda3\\lib\\site-packages\\numpy\\core\\_methods.py:163: VisibleDeprecationWarning: Creating an ndarray from ragged nested sequences (which is a list-or-tuple of lists-or-tuples-or ndarrays with different lengths or shapes) is deprecated. If you meant to do this, you must specify 'dtype=object' when creating the ndarray.\n",
      "  arr = asanyarray(a)\n",
      "D:\\Users\\user\\anaconda3\\lib\\site-packages\\numpy\\core\\_methods.py:197: VisibleDeprecationWarning: Creating an ndarray from ragged nested sequences (which is a list-or-tuple of lists-or-tuples-or ndarrays with different lengths or shapes) is deprecated. If you meant to do this, you must specify 'dtype=object' when creating the ndarray.\n",
      "  arr = asanyarray(a)\n"
     ]
    }
   ],
   "source": [
    "file = \"auto.txt\"\n",
    "data = pd.read_csv(file, sep = '\\t',header =0)\n",
    "Dn = [[ np.asarray([ x[4] , x[5] , x[6]]) , 1 * ( x[0] >= 23) ] for x in data.values ] #Creating list of lists\n",
    "me = np.mean(Dn) #calculating the mean of the data\n",
    "st = np.std(Dn) #calculating standard deviation\n",
    "D_norm =[]\n",
    "\n",
    "#logic to normalize the data (Same throughout the code)\n",
    "for i in range(len(Dn)):\n",
    "    D_norm.append([(Dn[i][0] - np.mean(Dn))/np.std(Dn),Dn[i][1]])\n",
    "\n",
    "#splitting the data in training and testing set (Same throughout the code)\n",
    "reshuffle = np.random.choice(len(D_norm), len(D_norm), replace=False)\n",
    "size = int(len(D_norm)/2)\n",
    "d_train = [D_norm[i] for i in reshuffle[:size]]\n",
    "d_test = [D_norm[i] for i in reshuffle[size:]]"
   ]
  },
  {
   "cell_type": "code",
   "execution_count": 317,
   "id": "da9b2840",
   "metadata": {},
   "outputs": [
    {
     "data": {
      "image/png": "[encoded data removed]",
      "text/plain": [
       "<Figure size 432x288 with 1 Axes>"
      ]
     },
     "metadata": {
      "needs_background": "light"
     },
     "output_type": "display_data"
    }
   ],
   "source": [
    "eta = 0.0001# set the learning rate\n",
    "T = 1100# set the number of epochs'\n",
    "d=10 # no, of dimensions.\n",
    "par0 = np.random.normal(0,0.7,len(d_train[0][0]) + 1) # generate a random initialisation\n",
    "par , obj = train(par0,eta,T,d_train) # train the model\n",
    "plt.plot(range(1,T),obj) # plot the objective\n",
    "plt.show()"
   ]
  },
  {
   "cell_type": "code",
   "execution_count": 318,
   "id": "5a4a4a4c",
   "metadata": {},
   "outputs": [],
   "source": [
    "er = ER(par,d_test) # error rates for test"
   ]
  },
  {
   "cell_type": "code",
   "execution_count": 319,
   "id": "40362f2c",
   "metadata": {},
   "outputs": [
    {
     "name": "stdout",
     "output_type": "stream",
     "text": [
      "Error Rate of real-world data set :  0.15041907531921594\n"
     ]
    }
   ],
   "source": [
    "print(\"Error Rate of real-world data on set : \",er)"
   ]
  },
  {
   "cell_type": "code",
   "execution_count": 365,
   "id": "29e55494",
   "metadata": {},
   "outputs": [
    {
     "name": "stdout",
     "output_type": "stream",
     "text": [
      "Error Rate of real-world data on set :  0.1550767441065188\n"
     ]
    }
   ],
   "source": [
    "er = ER(par,d_train)\n",
    "print(\"Error Rate of real-world data on set : \",er)"
   ]
  },
  {
   "attachments": {},
   "cell_type": "markdown",
   "id": "cef522e3",
   "metadata": {},
   "source": [
    "# Q3  - Nominal variables"
   ]
  },
  {
   "cell_type": "code",
   "execution_count": 389,
   "id": "8e5078ea",
   "metadata": {},
   "outputs": [
    {
     "name": "stderr",
     "output_type": "stream",
     "text": [
      "D:\\Users\\user\\anaconda3\\lib\\site-packages\\numpy\\core\\_methods.py:163: VisibleDeprecationWarning: Creating an ndarray from ragged nested sequences (which is a list-or-tuple of lists-or-tuples-or ndarrays with different lengths or shapes) is deprecated. If you meant to do this, you must specify 'dtype=object' when creating the ndarray.\n",
      "  arr = asanyarray(a)\n",
      "D:\\Users\\user\\anaconda3\\lib\\site-packages\\numpy\\core\\_methods.py:197: VisibleDeprecationWarning: Creating an ndarray from ragged nested sequences (which is a list-or-tuple of lists-or-tuples-or ndarrays with different lengths or shapes) is deprecated. If you meant to do this, you must specify 'dtype=object' when creating the ndarray.\n",
      "  arr = asanyarray(a)\n"
     ]
    }
   ],
   "source": [
    "file = \"auto.txt\"\n",
    "data1 = pd.read_csv(file, sep = '\\t',header =0)\n",
    "c = pd.get_dummies(data1, columns=['origin'], drop_first=False) # creating a set of dummy variables for origin\n",
    "Dm = [[ np.asarray([ x[4],x[5],x[6],x[8],x[9],x[10]],) , 1 * ( x[0] >= 23) ] for x in c.values]\n",
    "D_norm_ =[]\n",
    "for i in range(len(Dm)): \n",
    "    D_norm_.append([(Dm[i][0] - np.mean(Dm))/np.std(Dm),Dm[i][1]])\n",
    "\n",
    "reshuffle = np.random.choice(len(D_norm_), len(D_norm_), replace=False)\n",
    "size = int(len(D_norm_)/2)\n",
    "d_train = [D_norm_[i] for i in reshuffle[:size]]\n",
    "d_test = [D_norm_[i] for i in reshuffle[size:]]\n"
   ]
  },
  {
   "cell_type": "code",
   "execution_count": 347,
   "id": "37d6b1ce",
   "metadata": {},
   "outputs": [
    {
     "data": {
      "image/png": "[encoded data removed]",
      "text/plain": [
       "<Figure size 432x288 with 1 Axes>"
      ]
     },
     "metadata": {
      "needs_background": "light"
     },
     "output_type": "display_data"
    }
   ],
   "source": [
    "eta = 0.0001 # set the learning rate\n",
    "T = 1200 # set the number of epochs'\n",
    "d=10  \n",
    "par0 = np.random.normal(0,0.7,len(d_train[0][0]) + 1) # generate a random initialisation\n",
    "par , obj = train(par0,eta,T,d_train) #            train the model\n",
    "plt.plot(range(1,T),obj) # plot the objective\n",
    "plt.show()"
   ]
  },
  {
   "cell_type": "code",
   "execution_count": 359,
   "id": "0191237e",
   "metadata": {},
   "outputs": [],
   "source": [
    "er = ER(par,d_test) # error rates for test."
   ]
  },
  {
   "cell_type": "code",
   "execution_count": 361,
   "id": "d446cb45",
   "metadata": {},
   "outputs": [
    {
     "name": "stdout",
     "output_type": "stream",
     "text": [
      "Error Rate of augumented set on d_test :  0.03217157053162776\n"
     ]
    }
   ],
   "source": [
    "print(\"Error Rate of augumented set on d_test : \",er)"
   ]
  },
  {
   "cell_type": "code",
   "execution_count": 370,
   "id": "bfa01448",
   "metadata": {},
   "outputs": [
    {
     "name": "stdout",
     "output_type": "stream",
     "text": [
      "Error Rate of real-world data on set :  0.025612758722931502\n"
     ]
    }
   ],
   "source": [
    "er = ER(par,d_train)\n",
    "print(\"Error Rate of real-world data on set : \",er)"
   ]
  },
  {
   "attachments": {},
   "cell_type": "markdown",
   "id": "584a80ae",
   "metadata": {},
   "source": [
    "# Q4 - Training and testing error"
   ]
  },
  {
   "cell_type": "code",
   "execution_count": 462,
   "id": "95ed4de7",
   "metadata": {},
   "outputs": [
    {
     "name": "stderr",
     "output_type": "stream",
     "text": [
      "D:\\Users\\user\\anaconda3\\lib\\site-packages\\numpy\\core\\_methods.py:163: VisibleDeprecationWarning: Creating an ndarray from ragged nested sequences (which is a list-or-tuple of lists-or-tuples-or ndarrays with different lengths or shapes) is deprecated. If you meant to do this, you must specify 'dtype=object' when creating the ndarray.\n",
      "  arr = asanyarray(a)\n",
      "D:\\Users\\user\\anaconda3\\lib\\site-packages\\numpy\\core\\_methods.py:197: VisibleDeprecationWarning: Creating an ndarray from ragged nested sequences (which is a list-or-tuple of lists-or-tuples-or ndarrays with different lengths or shapes) is deprecated. If you meant to do this, you must specify 'dtype=object' when creating the ndarray.\n",
      "  arr = asanyarray(a)\n"
     ]
    }
   ],
   "source": [
    "file = \"auto.txt\"\n",
    "data = pd.read_csv(file, sep = '\\t',header =0)\n",
    "Dn = [[ np.asarray([ x[4] , x[5] , x[6]]) , 1 * ( x[0] >= 23) ] for x in data.values ]\n",
    "for i in range(len(Dn)):\n",
    "    D_norm.append([(Dn[i][0] - np.mean(Dn))/np.std(Dn),Dn[i][1]])\n",
    "splits = 10\n",
    "size=round(len(Dn)/10)\n",
    "\n",
    "\n",
    "eta = 0.001# set the learning rate\n",
    "T = 1100# set the number of epochs'\n",
    "d=10\n",
    "ER_train = [] #list to store training set error rate\n",
    "ER_test =[]#list to store test set error rate\n",
    "\n",
    "#logic to generate random splits for  i = 1...10 and training the data\n",
    "par0 = np.random.normal(0,0.7,len(d_train[0][0]) + 1)\n",
    "for i in range(splits):\n",
    "    reshuffle = np.random.choice(len(D_norm), len(D_norm), replace=False)\n",
    "    d_train = [D_norm[i] for i in reshuffle[:(size//2)]]\n",
    "    d_test = [D_norm[i] for i in reshuffle[(size//2):]]\n",
    "    par , obj = train(par0,eta,T,d_train)\n",
    "    ER_train.append(ER(par,d_train))\n",
    "    ER_test.append(ER(par,d_test))"
   ]
  },
  {
   "cell_type": "code",
   "execution_count": 482,
   "id": "3f2831bb",
   "metadata": {},
   "outputs": [
    {
     "name": "stdout",
     "output_type": "stream",
     "text": [
      "Error Rates on training sets :  [0.11658469590290617, 0.12181598378225833, 0.10716376260697813, 0.15262802972432668, 0.10282772862601013, 0.11848618639052523, 0.14727853681138361, 0.03909773357084509, 0.09617921247079857, 0.07067431220025662]\n"
     ]
    }
   ],
   "source": [
    "print(\"Error Rates on training sets : \",ER_train)  \n"
   ]
  },
  {
   "cell_type": "code",
   "execution_count": 483,
   "id": "7ec26da0",
   "metadata": {},
   "outputs": [
    {
     "name": "stdout",
     "output_type": "stream",
     "text": [
      "Error Rates on test sets :  [0.10773137180148636, 0.13044939833497757, 0.1173343923829659, 0.13655242740143106, 0.132473901184474, 0.10519184148139686, 0.06727214485455611, 0.09032613526679072, 0.09937796534379732, 0.13399506122599028]\n"
     ]
    }
   ],
   "source": [
    "print(\"Error Rates on test sets : \",ER_test)"
   ]
  },
  {
   "cell_type": "code",
   "execution_count": null,
   "id": "4fa9c5d6",
   "metadata": {},
   "outputs": [],
   "source": [
    "  "
   ]
  },
  {
   "cell_type": "code",
   "execution_count": null,
   "id": "f37884b6",
   "metadata": {},
   "outputs": [],
   "source": []
  }
 ],
 "metadata": {
  "kernelspec": {
   "display_name": "Python 3 (ipykernel)",
   "language": "python",
   "name": "python3"
  },
  "language_info": {
   "codemirror_mode": {
    "name": "ipython",
    "version": 3
   },
   "file_extension": ".py",
   "mimetype": "text/x-python",
   "name": "python",
   "nbconvert_exporter": "python",
   "pygments_lexer": "ipython3",
   "version": "3.9.12"
  }
 },
 "nbformat": 4,
 "nbformat_minor": 5
}
