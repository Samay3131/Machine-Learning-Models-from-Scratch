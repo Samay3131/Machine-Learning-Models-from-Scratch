{
 "cells": [
  {
   "cell_type": "markdown",
   "id": "da163567",
   "metadata": {},
   "source": [
    "### The code is implemented for K =1 , K = 3 and generic K"
   ]
  },
  {
   "cell_type": "code",
   "execution_count": 1,
   "id": "fe3914da",
   "metadata": {},
   "outputs": [],
   "source": [
    "import numpy as np\n",
    "import pandas as pd\n",
    "from sklearn.datasets import load_iris"
   ]
  },
  {
   "cell_type": "code",
   "execution_count": 2,
   "id": "a5adef7f",
   "metadata": {},
   "outputs": [],
   "source": [
    "#this block will load the data for iris and ionosphere.\n",
    "\n",
    "iris = load_iris()\n",
    "ionosphere =np.genfromtxt(\"ionosphere.txt\", delimiter=\",\")\n"
   ]
  },
  {
   "cell_type": "code",
   "execution_count": 3,
   "id": "9658abbe",
   "metadata": {},
   "outputs": [],
   "source": [
    "# this function will split the data into train and test\n",
    "\n",
    "def train_test_splitting(X,Y):\n",
    "    from sklearn.model_selection import train_test_split\n",
    "    X_train,x_test,Y_train,y_test = train_test_split(X,Y,random_state=3105)\n",
    "    return X_train,x_test,Y_train,y_test"
   ]
  },
  {
   "cell_type": "code",
   "execution_count": 4,
   "id": "b8fb28d8",
   "metadata": {},
   "outputs": [],
   "source": [
    "#here we are sorting the array to find the nearest neighbours\n",
    "def sort_distance(e):\n",
    "    for i in range(len(e)):\n",
    "        for j in range(i+1,len(e)):\n",
    "            swap = 0\n",
    "            if e[i] > e[j]:\n",
    "                swap= e[i]\n",
    "                e[i]=e[j]\n",
    "                e[j] = swap\n",
    "    return e\n"
   ]
  },
  {
   "cell_type": "code",
   "execution_count": 5,
   "id": "664e7c4d",
   "metadata": {},
   "outputs": [],
   "source": [
    "# this function will find out the maximum number of occurances of the nearest neighbour in case of K > 1\n",
    "\n",
    "def split_neighbours(pred):\n",
    "    y_pred = []\n",
    "    for i in range(len(pred)):\n",
    "        temp=[]\n",
    "        temp = list(pred[i])\n",
    "        c=[]\n",
    "        for i in temp:\n",
    "            c.append(temp.count(i)) # finding how many times a label has repeted\n",
    "            index_c = c.index(max(c)) # storing/fetching the index of most repeted label\n",
    "        y_pred.append(temp[index_c]) # Finally appending the final predicted label in the prediction array\n",
    "    return y_pred"
   ]
  },
  {
   "cell_type": "code",
   "execution_count": 6,
   "id": "32903f37",
   "metadata": {},
   "outputs": [],
   "source": [
    "# this function will find the accuracy and error rate of the data\n",
    "\n",
    "def accuracy_calculate(y_pred,y_test):\n",
    "    acc = y_pred == y_test\n",
    "    ct = 0\n",
    "    cf = 0\n",
    "    for i in acc:\n",
    "        if i == True:\n",
    "            ct=ct+1 #calculating the count of True predicted values\n",
    "        if i == False:\n",
    "            cf=cf+1 #calculating the count of False predicted values\n",
    "            \n",
    "    accuracy = 1 - (cf/(cf+ct)) \n",
    "    error_rate = 1 - accuracy\n",
    "    return error_rate,accuracy\n",
    "    \n",
    "    "
   ]
  },
  {
   "cell_type": "code",
   "execution_count": 7,
   "id": "cd7735a6",
   "metadata": {},
   "outputs": [],
   "source": [
    "#code to find the euclidian distance and prediction with index and sorting\n",
    "\n",
    "import math as m\n",
    "\n",
    "def predict(K,x_test,X_train,Y_train):\n",
    "    \n",
    "    pred = []\n",
    "    for i in range(len(x_test)):\n",
    "        index = []  \n",
    "        neighbour = []\n",
    "        distance =[]\n",
    "        dist = []\n",
    "        for j in range(len(X_train)):\n",
    "            \n",
    "            distance.append(m.sqrt(sum((x_test[i]-X_train[j])**2))) # calculating the euclidian distance \n",
    "                \n",
    "        dist.extend(distance)\n",
    "        eucl = sort_distance(dist)  # Logic to sort the array without using any pre-defined function\n",
    "    \n",
    "        #finding index to predict the label for nearest neighbours\n",
    "        for i in range(len(distance)):\n",
    "            for j in range(len(eucl)):\n",
    "                if eucl[i] == distance[j]:                \n",
    "                    index.append(j)\n",
    "                    \n",
    "        neighbour.append(index[:K]) #the nearest neighbours\n",
    "        for i in neighbour:\n",
    "            pred.append(Y_train[i])\n",
    "    \n",
    "    pred = np.asarray(pred)\n",
    "    y_pred = split_neighbours(pred)  #this will call the logic to identify the most common nearest neighbour\n",
    "\n",
    "    y_pred = np.asarray(y_pred)\n",
    "    return y_pred\n"
   ]
  },
  {
   "cell_type": "markdown",
   "id": "779cc274",
   "metadata": {},
   "source": [
    "### For Iris dataset, Error rates and prediction for K= 1 and K = 3"
   ]
  },
  {
   "cell_type": "code",
   "execution_count": 8,
   "id": "d422cc2c",
   "metadata": {},
   "outputs": [],
   "source": [
    "#For K =1\n",
    "\n",
    "X = iris['data']\n",
    "Y = iris['target']\n",
    "K=1\n",
    "X_train,x_test,Y_train,y_test = train_test_splitting(X,Y) #this user defined function will split the data in train and test\n",
    "y_pred = predict(K,x_test,X_train,Y_train)  #this user defined function will predict the lable\n",
    "error_rate,accuracy = accuracy_calculate(y_pred,y_test)  #this user defined function will compare the predicted labels \n",
    "                                                                #with the test data and find the accuracy and error rates"
   ]
  },
  {
   "cell_type": "code",
   "execution_count": 9,
   "id": "3327620b",
   "metadata": {},
   "outputs": [
    {
     "name": "stdout",
     "output_type": "stream",
     "text": [
      "The accuracy of iris data for K = 1 is :  0.9473684210526316\n",
      "The error rate of iris data for K = 1 is :  0.05263157894736836\n"
     ]
    }
   ],
   "source": [
    "print(\"The accuracy of iris data for K = 1 is : \",accuracy)\n",
    "print(\"The error rate of iris data for K = 1 is : \",error_rate)"
   ]
  },
  {
   "cell_type": "code",
   "execution_count": null,
   "id": "d369cf27",
   "metadata": {},
   "outputs": [],
   "source": []
  },
  {
   "cell_type": "code",
   "execution_count": 10,
   "id": "32d6a3fe",
   "metadata": {},
   "outputs": [],
   "source": [
    "#For K =3\n",
    "\n",
    "\n",
    "K =3\n",
    "X_train,x_test,Y_train,y_test = train_test_splitting(X,Y) #this user defined function will split the data in train and test\n",
    "y_pred = predict(K,x_test,X_train,Y_train)  #this user defined function will predict the lable\n",
    "error_rate,accuracy = accuracy_calculate(y_pred,y_test) #this user defined function will compare the predicted labels \n",
    "                                                                #with the test data and find the accuracy and error rates\n"
   ]
  },
  {
   "cell_type": "code",
   "execution_count": 11,
   "id": "0a49529b",
   "metadata": {},
   "outputs": [
    {
     "name": "stdout",
     "output_type": "stream",
     "text": [
      "The accuracy of iris data for K = 3 is :  0.9736842105263158\n",
      "The error rate of iris data for K = 3  is :  0.02631578947368418\n"
     ]
    }
   ],
   "source": [
    "print(\"The accuracy of iris data for K = 3 is : \",accuracy)\n",
    "print(\"The error rate of iris data for K = 3  is : \",error_rate)"
   ]
  },
  {
   "cell_type": "code",
   "execution_count": null,
   "id": "af77ddfe",
   "metadata": {
    "scrolled": true
   },
   "outputs": [],
   "source": []
  },
  {
   "cell_type": "markdown",
   "id": "5943c16b",
   "metadata": {},
   "source": [
    "### For Ionosphere dataset, Error rates and prediction for K= 1 and K = 3\n"
   ]
  },
  {
   "cell_type": "code",
   "execution_count": 12,
   "id": "67614f9e",
   "metadata": {},
   "outputs": [],
   "source": [
    "#For K =1\n",
    "\n",
    "X =np.asarray(ionosphere[:,:34])\n",
    "Y =np.asarray(ionosphere[:,34])\n",
    "\n",
    "K=1\n",
    "\n",
    "X_train,x_test,Y_train,y_test = train_test_splitting(X,Y) #this user defined function will split the data in train and test\n",
    "y_pred = predict(K,x_test,X_train,Y_train)  #this user defined function will predict the lable\n",
    "error_rate,accuracy = accuracy_calculate(y_pred,y_test)  #this user defined function will compare the predicted labels \n",
    "                                                                #with the test data and find the accuracy and error rates"
   ]
  },
  {
   "cell_type": "code",
   "execution_count": 13,
   "id": "db55413f",
   "metadata": {},
   "outputs": [
    {
     "name": "stdout",
     "output_type": "stream",
     "text": [
      "The accuracy of ionosphere data for K = 1 is :  0.8409090909090909\n",
      "The error rate of ionosphere data for K = 1 is :  0.15909090909090906\n"
     ]
    }
   ],
   "source": [
    "\n",
    "print(\"The accuracy of ionosphere data for K = 1 is : \",accuracy)\n",
    "print(\"The error rate of ionosphere data for K = 1 is : \",error_rate)"
   ]
  },
  {
   "cell_type": "code",
   "execution_count": null,
   "id": "0a0b20d9",
   "metadata": {},
   "outputs": [],
   "source": []
  },
  {
   "cell_type": "code",
   "execution_count": 14,
   "id": "8d411a1b",
   "metadata": {},
   "outputs": [],
   "source": [
    "#For K =3\n",
    "K=3\n",
    "X_train,x_test,Y_train,y_test = train_test_splitting(X,Y) #this user defined function will split the data in train and test\n",
    "y_pred = predict(K,x_test,X_train,Y_train)  #this user defined function will predict the lable\n",
    "error_rate,accuracy = accuracy_calculate(y_pred,y_test)  #this user defined function will compare the predicted labels \n",
    "                                                                #with the test data and find the accuracy and error rates\n"
   ]
  },
  {
   "cell_type": "code",
   "execution_count": 15,
   "id": "0e871108",
   "metadata": {},
   "outputs": [
    {
     "name": "stdout",
     "output_type": "stream",
     "text": [
      "The accuracy of ionosphere data for K = 3 is :  0.8522727272727273\n",
      "The error rate of ionosphere data for K = 3 is :  0.1477272727272727\n"
     ]
    }
   ],
   "source": [
    "\n",
    "print(\"The accuracy of ionosphere data for K = 3 is : \",accuracy)\n",
    "print(\"The error rate of ionosphere data for K = 3 is : \",error_rate)"
   ]
  },
  {
   "cell_type": "markdown",
   "id": "54eafdc5",
   "metadata": {},
   "source": [
    "### This code will work for any generic input i.e any input given by users for K ,for both ionosphere and iris data set also for any other dataset "
   ]
  },
  {
   "cell_type": "code",
   "execution_count": 17,
   "id": "262106de",
   "metadata": {},
   "outputs": [
    {
     "name": "stdout",
     "output_type": "stream",
     "text": [
      "Enter the value for K :10\n"
     ]
    }
   ],
   "source": [
    "K = int(input(\"Enter the value for K :\")) #Asking the user to input any value of K i.e nearest neighbour"
   ]
  },
  {
   "cell_type": "code",
   "execution_count": 18,
   "id": "c9ad4f13",
   "metadata": {},
   "outputs": [],
   "source": [
    "# For ionosphere for generic K\n",
    "\n",
    "X =np.asarray(ionosphere[:,:34])\n",
    "Y =np.asarray(ionosphere[:,34])\n",
    "X_train,x_test,Y_train,y_test = train_test_splitting(X,Y) #this user defined function will split the data in train and test\n",
    "y_pred = predict(K,x_test,X_train,Y_train)  #this user defined function will predict the lable\n",
    "error_rate,accuracy = accuracy_calculate(y_pred,y_test)  #this user defined function will compare the predicted labels \n",
    "                                                                #with the test data and find the accuracy and error rates\n"
   ]
  },
  {
   "cell_type": "code",
   "execution_count": 19,
   "id": "1cc390b0",
   "metadata": {},
   "outputs": [
    {
     "name": "stdout",
     "output_type": "stream",
     "text": [
      "The accuracy of ionosphere data for K = 10 is :  0.8295454545454546\n",
      "The error rate of ionosphere data for K = 10 is :  0.17045454545454541\n"
     ]
    }
   ],
   "source": [
    "\n",
    "print(\"The accuracy of ionosphere data for K = 10 is : \",accuracy)\n",
    "print(\"The error rate of ionosphere data for K = 10 is : \",error_rate)"
   ]
  },
  {
   "cell_type": "code",
   "execution_count": null,
   "id": "1931ebf0",
   "metadata": {},
   "outputs": [],
   "source": []
  },
  {
   "cell_type": "code",
   "execution_count": 20,
   "id": "e1208385",
   "metadata": {},
   "outputs": [],
   "source": [
    "# For iris data for grneric K\n",
    "\n",
    "X = iris['data']\n",
    "Y = iris['target']\n",
    "X_train,x_test,Y_train,y_test = train_test_splitting(X,Y) #this user defined function will split the data in train and test\n",
    "y_pred = predict(K,x_test,X_train,Y_train)  #this user defined function will predict the lable\n",
    "error_rate,accuracy = accuracy_calculate(y_pred,y_test)  #this user defined function will compare the predicted labels \n",
    "                                                                #with the test data and find the accuracy and error rates\n",
    "\n"
   ]
  },
  {
   "cell_type": "code",
   "execution_count": 21,
   "id": "fddedec9",
   "metadata": {},
   "outputs": [
    {
     "name": "stdout",
     "output_type": "stream",
     "text": [
      "The accuracy of iris data for K = 10 is :  0.9736842105263158\n",
      "The error rate of iris data for K = 10 is :  0.02631578947368418\n"
     ]
    }
   ],
   "source": [
    "print(\"The accuracy of iris data for K = 10 is : \",accuracy)\n",
    "print(\"The error rate of iris data for K = 10 is : \",error_rate)"
   ]
  },
  {
   "cell_type": "code",
   "execution_count": null,
   "id": "1f7e38bf",
   "metadata": {},
   "outputs": [],
   "source": []
  },
  {
   "cell_type": "code",
   "execution_count": null,
   "id": "ee896a0b",
   "metadata": {},
   "outputs": [],
   "source": []
  },
  {
   "cell_type": "code",
   "execution_count": null,
   "id": "fdca19a4",
   "metadata": {},
   "outputs": [],
   "source": []
  }
 ],
 "metadata": {
  "kernelspec": {
   "display_name": "Python 3 (ipykernel)",
   "language": "python",
   "name": "python3"
  },
  "language_info": {
   "codemirror_mode": {
    "name": "ipython",
    "version": 3
   },
   "file_extension": ".py",
   "mimetype": "text/x-python",
   "name": "python",
   "nbconvert_exporter": "python",
   "pygments_lexer": "ipython3",
   "version": "3.9.12"
  }
 },
 "nbformat": 4,
 "nbformat_minor": 5
}
